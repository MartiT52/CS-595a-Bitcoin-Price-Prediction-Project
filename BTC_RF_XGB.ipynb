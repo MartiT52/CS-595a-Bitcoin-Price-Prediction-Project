{
  "cells": [
    {
      "cell_type": "code",
      "execution_count": null,
      "id": "9925ad2f-9c50-45e5-8533-eebf1a5fd7d2",
      "metadata": {
        "id": "9925ad2f-9c50-45e5-8533-eebf1a5fd7d2"
      },
      "outputs": [],
      "source": [
        "import os\n",
        "import pandas as pd"
      ]
    },
    {
      "cell_type": "code",
      "execution_count": null,
      "id": "d71ca889-3406-4139-9da6-792dfc844e19",
      "metadata": {
        "id": "d71ca889-3406-4139-9da6-792dfc844e19"
      },
      "outputs": [],
      "source": [
        "#Read in the data from cvs file\n",
        "df = pd.read_csv(\"btc.csv\", index_col=0)"
      ]
    },
    {
      "cell_type": "code",
      "source": [
        "#Calculate the 50 day and 100 day moving averages\n",
        "df['50 Day MA'] = df['Close'].rolling(window=50).mean()\n",
        "df['100 Day MA'] = df['Close'].rolling(window=100).mean()"
      ],
      "metadata": {
        "id": "rcZNjHMPAuxd"
      },
      "id": "rcZNjHMPAuxd",
      "execution_count": null,
      "outputs": []
    },
    {
      "cell_type": "code",
      "execution_count": null,
      "id": "086d0aef-f2e4-42eb-9e41-4e4bad1f13d1",
      "metadata": {
        "id": "086d0aef-f2e4-42eb-9e41-4e4bad1f13d1"
      },
      "outputs": [],
      "source": [
        "#Set index to the Date column\n",
        "df.index = pd.to_datetime(df.index)"
      ]
    },
    {
      "cell_type": "code",
      "execution_count": null,
      "id": "1067f63d-91fd-425a-80a1-fccd1eba3612",
      "metadata": {
        "id": "1067f63d-91fd-425a-80a1-fccd1eba3612"
      },
      "outputs": [],
      "source": [
        "#Remove Excess Columns with missing values\n",
        "del df[\"Dividends\"]\n",
        "del df[\"Stock Splits\"]"
      ]
    },
    {
      "cell_type": "code",
      "execution_count": null,
      "id": "1fd1a503-412e-419f-b3e0-e32bf829ed0d",
      "metadata": {
        "id": "1fd1a503-412e-419f-b3e0-e32bf829ed0d"
      },
      "outputs": [],
      "source": [
        "df.columns = [c.lower() for c in df.columns]"
      ]
    },
    {
      "cell_type": "code",
      "execution_count": null,
      "id": "8767cdef-7b18-4902-ab92-e2f9d802f174",
      "metadata": {
        "id": "8767cdef-7b18-4902-ab92-e2f9d802f174"
      },
      "outputs": [],
      "source": [
        "#Set Tomorrow\n",
        "df[\"tomorrow\"] = df[\"close\"].shift(-1)"
      ]
    },
    {
      "cell_type": "code",
      "execution_count": null,
      "id": "bef1484f-353d-4bdf-afbf-9274b396d8a2",
      "metadata": {
        "id": "bef1484f-353d-4bdf-afbf-9274b396d8a2"
      },
      "outputs": [],
      "source": [
        "#Set Target data\n",
        "df[\"target\"] = (df[\"tomorrow\"] > df[\"close\"]).astype(int)"
      ]
    },
    {
      "cell_type": "code",
      "execution_count": null,
      "id": "c696cca8-ff0b-4735-b87d-5d41e6d8eccf",
      "metadata": {
        "id": "c696cca8-ff0b-4735-b87d-5d41e6d8eccf",
        "colab": {
          "base_uri": "https://localhost:8080/"
        },
        "outputId": "153f8a59-e16d-44fe-dbbc-5fb7d0476531"
      },
      "outputs": [
        {
          "output_type": "execute_result",
          "data": {
            "text/plain": [
              "1    1674\n",
              "0    1473\n",
              "Name: target, dtype: int64"
            ]
          },
          "metadata": {},
          "execution_count": 77
        }
      ],
      "source": [
        "df[\"target\"].value_counts()"
      ]
    },
    {
      "cell_type": "code",
      "execution_count": null,
      "id": "4f781df2-f1a6-4499-ad69-8749daadc142",
      "metadata": {
        "id": "4f781df2-f1a6-4499-ad69-8749daadc142",
        "colab": {
          "base_uri": "https://localhost:8080/",
          "height": 75
        },
        "outputId": "06f0222f-915c-409f-9913-30bc8bcee6e3"
      },
      "outputs": [
        {
          "output_type": "execute_result",
          "data": {
            "text/plain": [
              "RandomForestClassifier(min_samples_split=50, n_estimators=150, random_state=1)"
            ],
            "text/html": [
              "<style>#sk-container-id-3 {color: black;background-color: white;}#sk-container-id-3 pre{padding: 0;}#sk-container-id-3 div.sk-toggleable {background-color: white;}#sk-container-id-3 label.sk-toggleable__label {cursor: pointer;display: block;width: 100%;margin-bottom: 0;padding: 0.3em;box-sizing: border-box;text-align: center;}#sk-container-id-3 label.sk-toggleable__label-arrow:before {content: \"▸\";float: left;margin-right: 0.25em;color: #696969;}#sk-container-id-3 label.sk-toggleable__label-arrow:hover:before {color: black;}#sk-container-id-3 div.sk-estimator:hover label.sk-toggleable__label-arrow:before {color: black;}#sk-container-id-3 div.sk-toggleable__content {max-height: 0;max-width: 0;overflow: hidden;text-align: left;background-color: #f0f8ff;}#sk-container-id-3 div.sk-toggleable__content pre {margin: 0.2em;color: black;border-radius: 0.25em;background-color: #f0f8ff;}#sk-container-id-3 input.sk-toggleable__control:checked~div.sk-toggleable__content {max-height: 200px;max-width: 100%;overflow: auto;}#sk-container-id-3 input.sk-toggleable__control:checked~label.sk-toggleable__label-arrow:before {content: \"▾\";}#sk-container-id-3 div.sk-estimator input.sk-toggleable__control:checked~label.sk-toggleable__label {background-color: #d4ebff;}#sk-container-id-3 div.sk-label input.sk-toggleable__control:checked~label.sk-toggleable__label {background-color: #d4ebff;}#sk-container-id-3 input.sk-hidden--visually {border: 0;clip: rect(1px 1px 1px 1px);clip: rect(1px, 1px, 1px, 1px);height: 1px;margin: -1px;overflow: hidden;padding: 0;position: absolute;width: 1px;}#sk-container-id-3 div.sk-estimator {font-family: monospace;background-color: #f0f8ff;border: 1px dotted black;border-radius: 0.25em;box-sizing: border-box;margin-bottom: 0.5em;}#sk-container-id-3 div.sk-estimator:hover {background-color: #d4ebff;}#sk-container-id-3 div.sk-parallel-item::after {content: \"\";width: 100%;border-bottom: 1px solid gray;flex-grow: 1;}#sk-container-id-3 div.sk-label:hover label.sk-toggleable__label {background-color: #d4ebff;}#sk-container-id-3 div.sk-serial::before {content: \"\";position: absolute;border-left: 1px solid gray;box-sizing: border-box;top: 0;bottom: 0;left: 50%;z-index: 0;}#sk-container-id-3 div.sk-serial {display: flex;flex-direction: column;align-items: center;background-color: white;padding-right: 0.2em;padding-left: 0.2em;position: relative;}#sk-container-id-3 div.sk-item {position: relative;z-index: 1;}#sk-container-id-3 div.sk-parallel {display: flex;align-items: stretch;justify-content: center;background-color: white;position: relative;}#sk-container-id-3 div.sk-item::before, #sk-container-id-3 div.sk-parallel-item::before {content: \"\";position: absolute;border-left: 1px solid gray;box-sizing: border-box;top: 0;bottom: 0;left: 50%;z-index: -1;}#sk-container-id-3 div.sk-parallel-item {display: flex;flex-direction: column;z-index: 1;position: relative;background-color: white;}#sk-container-id-3 div.sk-parallel-item:first-child::after {align-self: flex-end;width: 50%;}#sk-container-id-3 div.sk-parallel-item:last-child::after {align-self: flex-start;width: 50%;}#sk-container-id-3 div.sk-parallel-item:only-child::after {width: 0;}#sk-container-id-3 div.sk-dashed-wrapped {border: 1px dashed gray;margin: 0 0.4em 0.5em 0.4em;box-sizing: border-box;padding-bottom: 0.4em;background-color: white;}#sk-container-id-3 div.sk-label label {font-family: monospace;font-weight: bold;display: inline-block;line-height: 1.2em;}#sk-container-id-3 div.sk-label-container {text-align: center;}#sk-container-id-3 div.sk-container {/* jupyter's `normalize.less` sets `[hidden] { display: none; }` but bootstrap.min.css set `[hidden] { display: none !important; }` so we also need the `!important` here to be able to override the default hidden behavior on the sphinx rendered scikit-learn.org. See: https://github.com/scikit-learn/scikit-learn/issues/21755 */display: inline-block !important;position: relative;}#sk-container-id-3 div.sk-text-repr-fallback {display: none;}</style><div id=\"sk-container-id-3\" class=\"sk-top-container\"><div class=\"sk-text-repr-fallback\"><pre>RandomForestClassifier(min_samples_split=50, n_estimators=150, random_state=1)</pre><b>In a Jupyter environment, please rerun this cell to show the HTML representation or trust the notebook. <br />On GitHub, the HTML representation is unable to render, please try loading this page with nbviewer.org.</b></div><div class=\"sk-container\" hidden><div class=\"sk-item\"><div class=\"sk-estimator sk-toggleable\"><input class=\"sk-toggleable__control sk-hidden--visually\" id=\"sk-estimator-id-3\" type=\"checkbox\" checked><label for=\"sk-estimator-id-3\" class=\"sk-toggleable__label sk-toggleable__label-arrow\">RandomForestClassifier</label><div class=\"sk-toggleable__content\"><pre>RandomForestClassifier(min_samples_split=50, n_estimators=150, random_state=1)</pre></div></div></div></div></div>"
            ]
          },
          "metadata": {},
          "execution_count": 79
        }
      ],
      "source": [
        "from sklearn.ensemble import RandomForestClassifier\n",
        "\n",
        "#Utlize Random Forest\n",
        "model = RandomForestClassifier(n_estimators=150, min_samples_split=50, random_state=1)\n",
        "\n",
        "train = df.iloc[:-200].dropna()\n",
        "test = df.iloc[-200:]\n",
        "\n",
        "values = [\"close\", \"open\", \"high\", \"low\", \"50 day ma\", \"100 day ma\"]\n",
        "model.fit(train[values], train[\"target\"])"
      ]
    },
    {
      "cell_type": "code",
      "execution_count": null,
      "id": "5db58bd9-009f-400c-9692-1d0787d40de8",
      "metadata": {
        "id": "5db58bd9-009f-400c-9692-1d0787d40de8",
        "colab": {
          "base_uri": "https://localhost:8080/"
        },
        "outputId": "969de1ec-ec39-4fcb-a1a2-2349d571ea22"
      },
      "outputs": [
        {
          "output_type": "execute_result",
          "data": {
            "text/plain": [
              "0.5298507462686567"
            ]
          },
          "metadata": {},
          "execution_count": 80
        }
      ],
      "source": [
        "from sklearn.metrics import precision_score\n",
        "\n",
        "#Output score\n",
        "predictionsRFC = model.predict(test[values])\n",
        "predictionsRFC = pd.Series(predictionsRFC, index=test.index)\n",
        "precision_score(test[\"target\"], predictionsRFC)"
      ]
    },
    {
      "cell_type": "code",
      "source": [
        "#Output the predictions and the target data\n",
        "predictionsRFC, test[\"target\"]"
      ],
      "metadata": {
        "id": "9Pxa6niZ5PHO",
        "colab": {
          "base_uri": "https://localhost:8080/"
        },
        "outputId": "fb18ac0f-92fa-4781-ca95-affdfae2af91"
      },
      "id": "9Pxa6niZ5PHO",
      "execution_count": null,
      "outputs": [
        {
          "output_type": "execute_result",
          "data": {
            "text/plain": [
              "(Date\n",
              " 2022-10-12 00:00:00+00:00    1\n",
              " 2022-10-13 00:00:00+00:00    1\n",
              " 2022-10-14 00:00:00+00:00    0\n",
              " 2022-10-15 00:00:00+00:00    1\n",
              " 2022-10-16 00:00:00+00:00    1\n",
              "                             ..\n",
              " 2023-04-25 00:00:00+00:00    0\n",
              " 2023-04-26 00:00:00+00:00    0\n",
              " 2023-04-27 00:00:00+00:00    1\n",
              " 2023-04-28 00:00:00+00:00    1\n",
              " 2023-04-30 00:00:00+00:00    1\n",
              " Length: 200, dtype: int64,\n",
              " Date\n",
              " 2022-10-12 00:00:00+00:00    1\n",
              " 2022-10-13 00:00:00+00:00    0\n",
              " 2022-10-14 00:00:00+00:00    0\n",
              " 2022-10-15 00:00:00+00:00    1\n",
              " 2022-10-16 00:00:00+00:00    1\n",
              "                             ..\n",
              " 2023-04-25 00:00:00+00:00    1\n",
              " 2023-04-26 00:00:00+00:00    1\n",
              " 2023-04-27 00:00:00+00:00    0\n",
              " 2023-04-28 00:00:00+00:00    0\n",
              " 2023-04-30 00:00:00+00:00    0\n",
              " Name: target, Length: 200, dtype: int64)"
            ]
          },
          "metadata": {},
          "execution_count": 81
        }
      ]
    },
    {
      "cell_type": "code",
      "source": [
        "from xgboost import XGBClassifier\n",
        "\n",
        "#Utlize XGBoost \n",
        "modelXGB = XGBClassifier(learning_rate=.1, n_estimators=100)\n",
        "\n",
        "modelXGB.fit(train[values], train[\"target\"])\n",
        "\n",
        "predictions = modelXGB.predict(test[values])\n",
        "predictions = pd.Series(predictions, index=test.index)\n",
        "precision_score(test[\"target\"], predictions)"
      ],
      "metadata": {
        "id": "7vJDyCw6FjKu",
        "colab": {
          "base_uri": "https://localhost:8080/"
        },
        "outputId": "b1fb4948-2cce-4df7-a503-6770c7c71c9a"
      },
      "id": "7vJDyCw6FjKu",
      "execution_count": null,
      "outputs": [
        {
          "output_type": "execute_result",
          "data": {
            "text/plain": [
              "0.5288461538461539"
            ]
          },
          "metadata": {},
          "execution_count": 83
        }
      ]
    }
  ],
  "metadata": {
    "kernelspec": {
      "display_name": "Python 3 (ipykernel)",
      "language": "python",
      "name": "python3"
    },
    "language_info": {
      "codemirror_mode": {
        "name": "ipython",
        "version": 3
      },
      "file_extension": ".py",
      "mimetype": "text/x-python",
      "name": "python",
      "nbconvert_exporter": "python",
      "pygments_lexer": "ipython3",
      "version": "3.9.13"
    },
    "colab": {
      "provenance": []
    }
  },
  "nbformat": 4,
  "nbformat_minor": 5
}